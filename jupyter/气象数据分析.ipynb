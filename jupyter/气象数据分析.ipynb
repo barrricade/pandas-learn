{
 "cells": [
  {
   "cell_type": "markdown",
   "metadata": {},
   "source": [
    "# 气象数据分析"
   ]
  },
  {
   "cell_type": "code",
   "execution_count": 176,
   "metadata": {},
   "outputs": [],
   "source": [
    "import pandas as pd\n",
    "import numpy as np\n",
    "from matplotlib import pyplot as plt\n",
    "import sklearn\n",
    "import json\n",
    "import requests\n",
    "from pandas.io.json import json_normalize\n",
    "import datetime\n",
    "from matplotlib import dates as mdates"
   ]
  },
  {
   "cell_type": "code",
   "execution_count": 3,
   "metadata": {},
   "outputs": [],
   "source": [
    "city = pd.read_json('/home/jakey/下载/city.list.json')"
   ]
  },
  {
   "cell_type": "code",
   "execution_count": 48,
   "metadata": {
    "scrolled": true
   },
   "outputs": [
    {
     "data": {
      "text/html": [
       "<div>\n",
       "<style scoped>\n",
       "    .dataframe tbody tr th:only-of-type {\n",
       "        vertical-align: middle;\n",
       "    }\n",
       "\n",
       "    .dataframe tbody tr th {\n",
       "        vertical-align: top;\n",
       "    }\n",
       "\n",
       "    .dataframe thead th {\n",
       "        text-align: right;\n",
       "    }\n",
       "</style>\n",
       "<table border=\"1\" class=\"dataframe\">\n",
       "  <thead>\n",
       "    <tr style=\"text-align: right;\">\n",
       "      <th></th>\n",
       "      <th>coord</th>\n",
       "      <th>country</th>\n",
       "      <th>id</th>\n",
       "      <th>name</th>\n",
       "    </tr>\n",
       "  </thead>\n",
       "  <tbody>\n",
       "    <tr>\n",
       "      <th>5567</th>\n",
       "      <td>{'lon': 121.458061, 'lat': 31.222219}</td>\n",
       "      <td>CN</td>\n",
       "      <td>1796236</td>\n",
       "      <td>Shanghai</td>\n",
       "    </tr>\n",
       "    <tr>\n",
       "      <th>5569</th>\n",
       "      <td>{'lon': 118.681107, 'lat': 24.962219}</td>\n",
       "      <td>CN</td>\n",
       "      <td>1801797</td>\n",
       "      <td>Luoyang</td>\n",
       "    </tr>\n",
       "    <tr>\n",
       "      <th>30898</th>\n",
       "      <td>{'lon': 108.928612, 'lat': 34.258331}</td>\n",
       "      <td>CN</td>\n",
       "      <td>1790630</td>\n",
       "      <td>Xian</td>\n",
       "    </tr>\n",
       "    <tr>\n",
       "      <th>42594</th>\n",
       "      <td>{'lon': 104.066673, 'lat': 30.66667}</td>\n",
       "      <td>CN</td>\n",
       "      <td>1815286</td>\n",
       "      <td>Chengdu</td>\n",
       "    </tr>\n",
       "    <tr>\n",
       "      <th>42597</th>\n",
       "      <td>{'lon': 118.777779, 'lat': 32.061668}</td>\n",
       "      <td>CN</td>\n",
       "      <td>1799962</td>\n",
       "      <td>Nanjing</td>\n",
       "    </tr>\n",
       "    <tr>\n",
       "      <th>42659</th>\n",
       "      <td>{'lon': 112.453613, 'lat': 34.683609}</td>\n",
       "      <td>CN</td>\n",
       "      <td>1801792</td>\n",
       "      <td>Luoyang</td>\n",
       "    </tr>\n",
       "    <tr>\n",
       "      <th>42732</th>\n",
       "      <td>{'lon': 114.029442, 'lat': 32.979439}</td>\n",
       "      <td>CN</td>\n",
       "      <td>1783873</td>\n",
       "      <td>Zhumadian</td>\n",
       "    </tr>\n",
       "    <tr>\n",
       "      <th>42820</th>\n",
       "      <td>{'lon': 110.783333, 'lat': 32.566669}</td>\n",
       "      <td>CN</td>\n",
       "      <td>1794904</td>\n",
       "      <td>Shiyan</td>\n",
       "    </tr>\n",
       "    <tr>\n",
       "      <th>110134</th>\n",
       "      <td>{'lon': 111.678299, 'lat': 29.046379}</td>\n",
       "      <td>CN</td>\n",
       "      <td>1791121</td>\n",
       "      <td>Changde</td>\n",
       "    </tr>\n",
       "    <tr>\n",
       "      <th>110167</th>\n",
       "      <td>{'lon': 110.778061, 'lat': 32.647499}</td>\n",
       "      <td>CN</td>\n",
       "      <td>1794903</td>\n",
       "      <td>Shiyan</td>\n",
       "    </tr>\n",
       "    <tr>\n",
       "      <th>110214</th>\n",
       "      <td>{'lon': 106.08474, 'lat': 30.79508}</td>\n",
       "      <td>CN</td>\n",
       "      <td>1800146</td>\n",
       "      <td>Nanchong</td>\n",
       "    </tr>\n",
       "    <tr>\n",
       "      <th>110226</th>\n",
       "      <td>{'lon': 114.273422, 'lat': 23.162439}</td>\n",
       "      <td>CN</td>\n",
       "      <td>1801799</td>\n",
       "      <td>Luoyang</td>\n",
       "    </tr>\n",
       "    <tr>\n",
       "      <th>124428</th>\n",
       "      <td>{'lon': 119.107018, 'lat': 34.710812}</td>\n",
       "      <td>CN</td>\n",
       "      <td>1550044</td>\n",
       "      <td>Luoyang</td>\n",
       "    </tr>\n",
       "    <tr>\n",
       "      <th>125351</th>\n",
       "      <td>{'lon': 112.286949, 'lat': 24.920561}</td>\n",
       "      <td>CN</td>\n",
       "      <td>1790633</td>\n",
       "      <td>Xian</td>\n",
       "    </tr>\n",
       "    <tr>\n",
       "      <th>125837</th>\n",
       "      <td>{'lon': 120.175278, 'lat': 32.715}</td>\n",
       "      <td>CN</td>\n",
       "      <td>1794902</td>\n",
       "      <td>Shiyan</td>\n",
       "    </tr>\n",
       "    <tr>\n",
       "      <th>126143</th>\n",
       "      <td>{'lon': 102.542938, 'lat': 32.792721}</td>\n",
       "      <td>CN</td>\n",
       "      <td>1797537</td>\n",
       "      <td>Qiongxi</td>\n",
       "    </tr>\n",
       "    <tr>\n",
       "      <th>126378</th>\n",
       "      <td>{'lon': 114.401283, 'lat': 24.686291}</td>\n",
       "      <td>CN</td>\n",
       "      <td>1799963</td>\n",
       "      <td>Nanjing</td>\n",
       "    </tr>\n",
       "    <tr>\n",
       "      <th>126566</th>\n",
       "      <td>{'lon': 113.425323, 'lat': 31.472919}</td>\n",
       "      <td>CN</td>\n",
       "      <td>1801791</td>\n",
       "      <td>Luoyang</td>\n",
       "    </tr>\n",
       "    <tr>\n",
       "      <th>129048</th>\n",
       "      <td>{'lon': 116.291428, 'lat': 23.348841}</td>\n",
       "      <td>CN</td>\n",
       "      <td>1919759</td>\n",
       "      <td>Nanjing</td>\n",
       "    </tr>\n",
       "    <tr>\n",
       "      <th>130016</th>\n",
       "      <td>{'lon': 122.23481, 'lat': 40.922661}</td>\n",
       "      <td>CN</td>\n",
       "      <td>2053185</td>\n",
       "      <td>Xian</td>\n",
       "    </tr>\n",
       "    <tr>\n",
       "      <th>130377</th>\n",
       "      <td>{'lon': 102.805222, 'lat': 24.929741}</td>\n",
       "      <td>CN</td>\n",
       "      <td>6999282</td>\n",
       "      <td>Luoyang</td>\n",
       "    </tr>\n",
       "  </tbody>\n",
       "</table>\n",
       "</div>"
      ],
      "text/plain": [
       "                                        coord country       id       name\n",
       "5567    {'lon': 121.458061, 'lat': 31.222219}      CN  1796236   Shanghai\n",
       "5569    {'lon': 118.681107, 'lat': 24.962219}      CN  1801797    Luoyang\n",
       "30898   {'lon': 108.928612, 'lat': 34.258331}      CN  1790630       Xian\n",
       "42594    {'lon': 104.066673, 'lat': 30.66667}      CN  1815286    Chengdu\n",
       "42597   {'lon': 118.777779, 'lat': 32.061668}      CN  1799962    Nanjing\n",
       "42659   {'lon': 112.453613, 'lat': 34.683609}      CN  1801792    Luoyang\n",
       "42732   {'lon': 114.029442, 'lat': 32.979439}      CN  1783873  Zhumadian\n",
       "42820   {'lon': 110.783333, 'lat': 32.566669}      CN  1794904     Shiyan\n",
       "110134  {'lon': 111.678299, 'lat': 29.046379}      CN  1791121    Changde\n",
       "110167  {'lon': 110.778061, 'lat': 32.647499}      CN  1794903     Shiyan\n",
       "110214    {'lon': 106.08474, 'lat': 30.79508}      CN  1800146   Nanchong\n",
       "110226  {'lon': 114.273422, 'lat': 23.162439}      CN  1801799    Luoyang\n",
       "124428  {'lon': 119.107018, 'lat': 34.710812}      CN  1550044    Luoyang\n",
       "125351  {'lon': 112.286949, 'lat': 24.920561}      CN  1790633       Xian\n",
       "125837     {'lon': 120.175278, 'lat': 32.715}      CN  1794902     Shiyan\n",
       "126143  {'lon': 102.542938, 'lat': 32.792721}      CN  1797537    Qiongxi\n",
       "126378  {'lon': 114.401283, 'lat': 24.686291}      CN  1799963    Nanjing\n",
       "126566  {'lon': 113.425323, 'lat': 31.472919}      CN  1801791    Luoyang\n",
       "129048  {'lon': 116.291428, 'lat': 23.348841}      CN  1919759    Nanjing\n",
       "130016   {'lon': 122.23481, 'lat': 40.922661}      CN  2053185       Xian\n",
       "130377  {'lon': 102.805222, 'lat': 24.929741}      CN  6999282    Luoyang"
      ]
     },
     "execution_count": 48,
     "metadata": {},
     "output_type": "execute_result"
    }
   ],
   "source": [
    "city[city.name.isin(['Shanghai','Nanjing','Zhumadian','Changde','Nanchong','Shiyan','Luoyang','Xian','Chengdu','Qiongxi'])]"
   ]
  },
  {
   "cell_type": "code",
   "execution_count": 252,
   "metadata": {},
   "outputs": [],
   "source": [
    "shanghai = requests.get('http://api.openweathermap.org/data/2.5/forecast?id=1796236&APPID=f217c39f65c3d00113697b73eb6be835').text\n",
    "shanghai = json_normalize(json.loads(shanghai),'list')\n",
    "luoyang = requests.get('http://api.openweathermap.org/data/2.5/forecast?id=1801797&APPID=f217c39f65c3d00113697b73eb6be835').text\n",
    "luoyang = json_normalize(json.loads(luoyang),'list')\n",
    "xian = requests.get('http://api.openweathermap.org/data/2.5/forecast?id=1790630&APPID=f217c39f65c3d00113697b73eb6be835').text\n",
    "xian = json_normalize(json.loads(xian),'list')\n",
    "chengdu = requests.get('http://api.openweathermap.org/data/2.5/forecast?id=1815286&APPID=f217c39f65c3d00113697b73eb6be835').text\n",
    "chengdu = json_normalize(json.loads(chengdu),'list')\n",
    "nanjing = requests.get('http://api.openweathermap.org/data/2.5/forecast?id=1799962&APPID=f217c39f65c3d00113697b73eb6be835').text\n",
    "nanjing = json_normalize(json.loads(nanjing),'list')\n",
    "zhumadian = requests.get('http://api.openweathermap.org/data/2.5/forecast?id=1783873&APPID=f217c39f65c3d00113697b73eb6be835').text\n",
    "zhumadian = json_normalize(json.loads(zhumadian),'list')\n",
    "shiyan = requests.get('http://api.openweathermap.org/data/2.5/forecast?id=1794904&APPID=f217c39f65c3d00113697b73eb6be835').text\n",
    "shiyan = json_normalize(json.loads(shiyan),'list')\n",
    "changde = requests.get('http://api.openweathermap.org/data/2.5/forecast?id=1791121&APPID=f217c39f65c3d00113697b73eb6be835').text\n",
    "changde = json_normalize(json.loads(changde),'list')\n",
    "nanchong = requests.get('http://api.openweathermap.org/data/2.5/forecast?id=1800146&APPID=f217c39f65c3d00113697b73eb6be835').text\n",
    "nanchong = json_normalize(json.loads(nanchong),'list')\n",
    "qiongxi = requests.get('http://api.openweathermap.org/data/2.5/forecast?id=1797537&APPID=f217c39f65c3d00113697b73eb6be835').text\n",
    "qiongxi = json_normalize(json.loads(qiongxi),'list')"
   ]
  },
  {
   "cell_type": "code",
   "execution_count": 166,
   "metadata": {},
   "outputs": [],
   "source": [
    "def prepare(city1,city_name):\n",
    "    temp = []\n",
    "    humidity = []\n",
    "    pressure = []\n",
    "    description = []\n",
    "    dt = []\n",
    "    wind_deg = []\n",
    "    wind_speed = []\n",
    "    city = []\n",
    "    for i in range(city1.shape[0]):\n",
    "        temp.append(city1.iloc[i]['main']['temp']-273.15)\n",
    "        humidity.append(city1.iloc[i]['main']['humidity'])\n",
    "        pressure.append(city1.iloc[i]['main']['pressure'])\n",
    "        description.append(city1.iloc[i]['weather'][0]['description'])\n",
    "        wind_deg.append(city1.iloc[i]['wind']['deg'])\n",
    "        dt.append(city1.iloc[i]['dt'])\n",
    "        wind_speed.append(city1.iloc[i]['wind']['speed'])\n",
    "        city.append(city_name)\n",
    "    headings = ['city','day','temp','humidity','pressure','description','wind_speed','wind_deg']\n",
    "    data = [city,dt,temp,humidity,pressure,description,wind_speed,wind_deg]\n",
    "    df = pd.DataFrame(data,index=headings)\n",
    "    df = df.T\n",
    "    df['day'] = df['day'].apply(datetime.datetime.fromtimestamp)\n",
    "    return df"
   ]
  },
  {
   "cell_type": "code",
   "execution_count": 253,
   "metadata": {},
   "outputs": [],
   "source": [
    "shanghai = prepare(shanghai,'上海')\n",
    "luoyang = prepare(luoyang,'洛阳')\n",
    "xian = prepare(xian,'西安')\n",
    "chengdu = prepare(chengdu,'成都')\n",
    "nanjing = prepare(nanjing,'南京')\n",
    "zhumadian = prepare(zhumadian,'驻马店')\n",
    "shiyan = prepare(shiyan,'十堰')\n",
    "changde = prepare(changde,'常德')\n",
    "nanchong = prepare(nanchong,'南充')\n",
    "qiongxi = prepare(qiongxi,'邛溪')"
   ]
  },
  {
   "cell_type": "code",
   "execution_count": 254,
   "metadata": {},
   "outputs": [],
   "source": [
    "shanghai['dist'] = 0\n",
    "luoyang['dist'] = 925\n",
    "xian['dist'] = 1242\n",
    "chengdu['dist'] = 1660 \n",
    "nanjing['dist'] = 271\n",
    "zhumadian['dist'] = 727\n",
    "shiyan['dist'] = 1019\n",
    "changde['dist'] = 972\n",
    "nanchong['dist'] = 1466\n",
    "qiongxi['dist'] = 1792"
   ]
  },
  {
   "cell_type": "code",
   "execution_count": 175,
   "metadata": {},
   "outputs": [],
   "source": [
    "# shanghai.to_csv('/home/jakey/文档/city/shanghai.csv',index=False)\n",
    "# luoyang.to_csv('/home/jakey/文档/city/luoyang.csv',index=False)\n",
    "# xian.to_csv('/home/jakey/文档/city/xian.csv',index=False)\n",
    "# chengdu.to_csv('/home/jakey/文档/city/chengdu.csv',index=False)\n",
    "# nanjing.to_csv('/home/jakey/文档/city/nanjing.csv',index=False)\n",
    "# zhumadian.to_csv('/home/jakey/文档/city/zhumadian.csv',index=False)\n",
    "# shiyan.to_csv('/home/jakey/文档/city/shiyan.csv',index=False)\n",
    "# chengde.to_csv('/home/jakey/文档/city/chengde.csv',index=False)\n",
    "#qiongxi.to_csv('/home/jakey/文档/city/qiongxi.csv',index=False)\n",
    "# nanchong.to_csv('/home/jakey/文档/city/nanchong.csv',index=False)"
   ]
  },
  {
   "cell_type": "code",
   "execution_count": 224,
   "metadata": {},
   "outputs": [
    {
     "data": {
      "text/plain": [
       "[<matplotlib.lines.Line2D at 0x7f661d6d0b70>]"
      ]
     },
     "execution_count": 224,
     "metadata": {},
     "output_type": "execute_result"
    },
    {
     "data": {
      "image/png": "[encoded data removed]",
      "text/plain": [
       "<Figure size 432x288 with 1 Axes>"
      ]
     },
     "metadata": {},
     "output_type": "display_data"
    }
   ],
   "source": [
    "x1 = shanghai.set_index('day').truncate(after = pd.Timestamp('2017-02-01')).index\n",
    "y1 = shanghai.set_index('day').truncate(after = pd.Timestamp('2017-02-01'))['temp']\n",
    "fig, ax = plt.subplots()\n",
    "plt.xticks(rotation=70)\n",
    "hours = mdates.DateFormatter('%H:%M')\n",
    "ax.xaxis.set_major_formatter(hours)\n",
    "ax.plot(x1,y1,c='r')"
   ]
  },
  {
   "cell_type": "code",
   "execution_count": 266,
   "metadata": {},
   "outputs": [
    {
     "data": {
      "text/plain": [
       "<matplotlib.legend.Legend at 0x7f661d4c2c50>"
      ]
     },
     "execution_count": 266,
     "metadata": {},
     "output_type": "execute_result"
    },
    {
     "data": {
      "image/png": "[encoded data removed]",
      "text/plain": [
       "<Figure size 432x288 with 1 Axes>"
      ]
     },
     "metadata": {},
     "output_type": "display_data"
    }
   ],
   "source": [
    "x1 = shanghai.set_index('day').truncate(before = pd.Timestamp('2018-08-07'),after = pd.Timestamp('2018-08-08')).index\n",
    "y1 = shanghai.set_index('day').truncate(before = pd.Timestamp('2018-08-07'),after = pd.Timestamp('2018-08-08'))['temp']\n",
    "x2 = nanjing.set_index('day').truncate(before = pd.Timestamp('2018-08-07'),after = pd.Timestamp('2018-08-08')).index\n",
    "y2 = nanjing.set_index('day').truncate(before = pd.Timestamp('2018-08-07'),after = pd.Timestamp('2018-08-08'))['temp']\n",
    "x3 = zhumadian.set_index('day').truncate(before = pd.Timestamp('2018-08-07'),after = pd.Timestamp('2018-08-08')).index\n",
    "y3 = zhumadian.set_index('day').truncate(before = pd.Timestamp('2018-08-07'),after = pd.Timestamp('2018-08-08'))['temp']\n",
    "x4 = nanchong.set_index('day').truncate(before = pd.Timestamp('2018-08-07'),after = pd.Timestamp('2018-08-08')).index\n",
    "y4 = nanchong.set_index('day').truncate(before = pd.Timestamp('2018-08-07'),after = pd.Timestamp('2018-08-08'))['temp']\n",
    "x5 = chengdu.set_index('day').truncate(before = pd.Timestamp('2018-08-07'),after = pd.Timestamp('2018-08-08')).index\n",
    "y5 = chengdu.set_index('day').truncate(before = pd.Timestamp('2018-08-07'),after = pd.Timestamp('2018-08-08'))['temp']\n",
    "x6 = qiongxi.set_index('day').truncate(before = pd.Timestamp('2018-08-07'),after = pd.Timestamp('2018-08-08')).index\n",
    "y6 = qiongxi.set_index('day').truncate(before = pd.Timestamp('2018-08-07'),after = pd.Timestamp('2018-08-08'))['temp']\n",
    "fig, ax = plt.subplots()\n",
    "plt.xticks(rotation=70)\n",
    "hours = mdates.DateFormatter('%H:%M')\n",
    "ax.xaxis.set_major_formatter(hours)\n",
    "plt.plot(x1,y1,x2,y2,x3,y3)\n",
    "plt.plot(x4,y4,x5,y5,x6,y6)\n",
    "plt.legend(['上海','南京','驻马店','南充','成都','邛溪'])\n",
    "#沿海越近越热"
   ]
  },
  {
   "cell_type": "code",
   "execution_count": 269,
   "metadata": {},
   "outputs": [
    {
     "data": {
      "text/plain": [
       "[<matplotlib.lines.Line2D at 0x7f661d46c518>]"
      ]
     },
     "execution_count": 269,
     "metadata": {},
     "output_type": "execute_result"
    },
    {
     "data": {
      "image/png": "[encoded data removed]",
      "text/plain": [
       "<Figure size 432x288 with 1 Axes>"
      ]
     },
     "metadata": {},
     "output_type": "display_data"
    }
   ],
   "source": [
    "dist = [shanghai['dist'][0],luoyang['dist'][0],\n",
    "        xian['dist'][0],chengdu['dist'][0], \n",
    "        nanjing['dist'][0],zhumadian['dist'][0],\n",
    "        shiyan['dist'][0],changde['dist'][0],\n",
    "        nanchong['dist'][0],qiongxi['dist'][0]]\n",
    "temp_max = [shanghai['temp'].max(),luoyang['temp'].max(),\n",
    "           xian['temp'].max(),chengdu['temp'].max(),\n",
    "           nanjing['temp'].max(),zhumadian['temp'].max(),\n",
    "           shiyan['temp'].max(),changde['temp'].max(),\n",
    "           nanchong['temp'].max(),qiongxi['temp'].max()]\n",
    "temp_min = [shanghai['temp'].min(),luoyang['temp'].min(),\n",
    "           xian['temp'].min(),chengdu['temp'].min(),\n",
    "           nanjing['temp'].min(),zhumadian['temp'].min(),\n",
    "           shiyan['temp'].min(),changde['temp'].min(),\n",
    "           nanchong['temp'].min(),qiongxi['temp'].min()]\n",
    "plt.plot(dist,temp_max,'ro')"
   ]
  },
  {
   "cell_type": "code",
   "execution_count": 272,
   "metadata": {},
   "outputs": [
    {
     "data": {
      "text/plain": [
       "<matplotlib.collections.PathCollection at 0x7f661d86d320>"
      ]
     },
     "execution_count": 272,
     "metadata": {},
     "output_type": "execute_result"
    },
    {
     "data": {
      "image/png": "[encoded data removed]",
      "text/plain": [
       "<Figure size 432x288 with 1 Axes>"
      ]
     },
     "metadata": {},
     "output_type": "display_data"
    }
   ],
   "source": [
    "plt.scatter(dist,temp_min)"
   ]
  },
  {
   "cell_type": "code",
   "execution_count": 275,
   "metadata": {},
   "outputs": [
    {
     "data": {
      "text/plain": [
       "<matplotlib.legend.Legend at 0x7f661d410ac8>"
      ]
     },
     "execution_count": 275,
     "metadata": {},
     "output_type": "execute_result"
    },
    {
     "data": {
      "image/png": "[encoded data removed]",
      "text/plain": [
       "<Figure size 432x288 with 1 Axes>"
      ]
     },
     "metadata": {},
     "output_type": "display_data"
    }
   ],
   "source": [
    "x1 = shanghai.set_index('day').truncate(before = pd.Timestamp('2018-08-07'),after = pd.Timestamp('2018-08-08')).index\n",
    "y1 = shanghai.set_index('day').truncate(before = pd.Timestamp('2018-08-07'),after = pd.Timestamp('2018-08-08'))['humidity']\n",
    "x2 = nanjing.set_index('day').truncate(before = pd.Timestamp('2018-08-07'),after = pd.Timestamp('2018-08-08')).index\n",
    "y2 = nanjing.set_index('day').truncate(before = pd.Timestamp('2018-08-07'),after = pd.Timestamp('2018-08-08'))['humidity']\n",
    "x3 = zhumadian.set_index('day').truncate(before = pd.Timestamp('2018-08-07'),after = pd.Timestamp('2018-08-08')).index\n",
    "y3 = zhumadian.set_index('day').truncate(before = pd.Timestamp('2018-08-07'),after = pd.Timestamp('2018-08-08'))['humidity']\n",
    "x4 = nanchong.set_index('day').truncate(before = pd.Timestamp('2018-08-07'),after = pd.Timestamp('2018-08-08')).index\n",
    "y4 = nanchong.set_index('day').truncate(before = pd.Timestamp('2018-08-07'),after = pd.Timestamp('2018-08-08'))['humidity']\n",
    "x5 = chengdu.set_index('day').truncate(before = pd.Timestamp('2018-08-07'),after = pd.Timestamp('2018-08-08')).index\n",
    "y5 = chengdu.set_index('day').truncate(before = pd.Timestamp('2018-08-07'),after = pd.Timestamp('2018-08-08'))['humidity']\n",
    "x6 = qiongxi.set_index('day').truncate(before = pd.Timestamp('2018-08-07'),after = pd.Timestamp('2018-08-08')).index\n",
    "y6 = qiongxi.set_index('day').truncate(before = pd.Timestamp('2018-08-07'),after = pd.Timestamp('2018-08-08'))['humidity']\n",
    "fig, ax = plt.subplots()\n",
    "plt.xticks(rotation=70)\n",
    "hours = mdates.DateFormatter('%H:%M')\n",
    "ax.xaxis.set_major_formatter(hours)\n",
    "plt.plot(x1,y1,x2,y2,x3,y3)\n",
    "plt.plot(x4,y4,x5,y5,x6,y6)\n",
    "plt.legend(['上海','南京','驻马店','南充','成都','邛溪'])"
   ]
  },
  {
   "cell_type": "markdown",
   "metadata": {},
   "source": [
    "# 瞎掰"
   ]
  }
 ],
 "metadata": {
  "kernelspec": {
   "display_name": "Python 3",
   "language": "python",
   "name": "python3"
  },
  "language_info": {
   "codemirror_mode": {
    "name": "ipython",
    "version": 3
   },
   "file_extension": ".py",
   "mimetype": "text/x-python",
   "name": "python",
   "nbconvert_exporter": "python",
   "pygments_lexer": "ipython3",
   "version": "3.6.5"
  }
 },
 "nbformat": 4,
 "nbformat_minor": 2
}
